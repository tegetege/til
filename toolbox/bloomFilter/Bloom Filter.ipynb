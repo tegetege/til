{
 "cells": [
  {
   "cell_type": "code",
   "execution_count": 10,
   "metadata": {},
   "outputs": [],
   "source": [
    "target_list = [1, 3, 5, 7, 9, 11]"
   ]
  },
  {
   "cell_type": "code",
   "execution_count": 7,
   "metadata": {},
   "outputs": [
    {
     "name": "stdout",
     "output_type": "stream",
     "text": [
      "find number : 8\n",
      "Not Found!\n"
     ]
    }
   ],
   "source": [
    "# iterator\n",
    "# O(n)\n",
    "\n",
    "def found_number_iterator(input_num):\n",
    "    for number in target_list:\n",
    "        if number == input_num:\n",
    "            print('Found!')\n",
    "            return \n",
    "    print('Not Found!')\n",
    "    return\n",
    "\n",
    "input_num = int(input('find number : '))\n",
    "found_number_iterator(input_num) #O(len(target_list))\n",
    "\n"
   ]
  },
  {
   "cell_type": "markdown",
   "metadata": {},
   "source": [
    "# bloom filter\n",
    "■ 下の例\n",
    "- 配列空関数(m) 30個\n",
    "- 登録要素数(n) 6個(target_list)\n",
    "- ハッシュ関数(k) 2個\n",
    "- O(k) この例だと、0(2)\n",
    "- failse positive = 約 11.1%\n",
    "\n",
    "## False Positiveを最小にするハッシュ関数の個数の近似値\n",
    "```\n",
    "0.7 * (m / n)\n",
    "```\n",
    "この例の場合、 0.7 * (30 / 6) = 3..5 ≒ 4\n",
    "この時のfailse positiveの確率\n",
    "```\n",
    "0.6185^(m / n)\n",
    "```\n",
    "この例の場合、 0.6185 * (30 / 6) = 0.0905... 約9%になる\n",
    "\n",
    "## 参考\n",
    "[理系学生日記 - Bloom Filterの数理](https://kiririmode.hatenablog.jp/entry/20190214/1550131181)"
   ]
  },
  {
   "cell_type": "code",
   "execution_count": 14,
   "metadata": {},
   "outputs": [
    {
     "name": "stdout",
     "output_type": "stream",
     "text": [
      "find number :  1\n",
      "True\n"
     ]
    }
   ],
   "source": [
    "# bloom filter\n",
    "\n",
    "class BloomFilter():\n",
    "    def __init__(self):\n",
    "        self.m = 30\n",
    "        self.bf = [0] * self.m\n",
    "    \n",
    "    def make_hash(self, item):\n",
    "        h1 = (item * 1) % self.m\n",
    "        h2 = (item * 2) % self.m\n",
    "        \n",
    "        return h1, h2\n",
    "    \n",
    "    def make_bloom_filter(self, item_list):\n",
    "        for item in item_list:\n",
    "            hash_1, hash_2  = self.make_hash(item)\n",
    "            self.bf[hash_1] = 1\n",
    "            self.bf[hash_2] = 1\n",
    "    \n",
    "    def found(self, item):\n",
    "        hash_1, hash_2  = self.make_hash(item)\n",
    "        \n",
    "        if self.bf[hash_1] == 1 and self.bf[hash_2] == 1:\n",
    "            return True\n",
    "        else:\n",
    "            return False\n",
    "\n",
    "target_list = [1, 3, 5, 7, 9, 11]\n",
    "bf = BloomFilter()\n",
    "bf.make_bloom_filter(target_list)\n",
    "\n",
    "input_num = int(input('find number :  '))\n",
    "print(bf.found(input_num))"
   ]
  },
  {
   "cell_type": "code",
   "execution_count": null,
   "metadata": {},
   "outputs": [],
   "source": []
  }
 ],
 "metadata": {
  "interpreter": {
   "hash": "7266c094a7db421b98a743dc81556267cca48deb59925bb4455ddccd81594498"
  },
  "kernelspec": {
   "display_name": "Python 3.9.5 64-bit ('3.9.5': pyenv)",
   "name": "python3"
  },
  "language_info": {
   "name": "python",
   "version": ""
  }
 },
 "nbformat": 4,
 "nbformat_minor": 5
}